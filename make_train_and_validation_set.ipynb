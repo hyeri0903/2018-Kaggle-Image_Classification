{
 "cells": [
  {
   "cell_type": "code",
   "execution_count": 1,
   "metadata": {
    "collapsed": true
   },
   "outputs": [],
   "source": [
    "import os\n",
    "import numpy as np\n",
    "import pandas as pd\n",
    "import matplotlib.pyplot as plt\n",
    "montage_rgb = lambda x: np.stack([montage(x[:, :, :, i]) for i in range(x.shape[3])], -1)\n",
    "\n",
    "train_image_dir = './train'\n",
    "\n",
    "name_label_dict = {\n",
    "0:  \"Nucleoplasm\", \n",
    "1:  \"Nuclear membrane\",   \n",
    "2:  \"Nucleoli\",   \n",
    "3:  \"Nucleoli fibrillar center\" ,  \n",
    "4:  \"Nuclear speckles\"   ,\n",
    "5:  \"Nuclear bodies\"   ,\n",
    "6:  \"Endoplasmic reticulum\",   \n",
    "7:  \"Golgi apparatus\"   ,\n",
    "8:  \"Peroxisomes\"   ,\n",
    "9:  \"Endosomes\"   ,\n",
    "10:  \"Lysosomes\"   ,\n",
    "11:  \"Intermediate filaments\",   \n",
    "12:  \"Actin filaments\"   ,\n",
    "13:  \"Focal adhesion sites\",   \n",
    "14:  \"Microtubules\"   ,\n",
    "15:  \"Microtubule ends\",   \n",
    "16:  \"Cytokinetic bridge\",   \n",
    "17:  \"Mitotic spindle\"   ,\n",
    "18:  \"Microtubule organizing center\" ,  \n",
    "19:  \"Centrosome\"   ,\n",
    "20:  \"Lipid droplets\",   \n",
    "21:  \"Plasma membrane\",   \n",
    "22:  \"Cell junctions\"  , \n",
    "23:  \"Mitochondria\"   ,\n",
    "24:  \"Aggresome\"   ,\n",
    "25:  \"Cytosol\",\n",
    "26:  \"Cytoplasmic bodies\",   \n",
    "27:  \"Rods & rings\" \n",
    "}"
   ]
  },
  {
   "cell_type": "code",
   "execution_count": 2,
   "metadata": {},
   "outputs": [
    {
     "name": "stdout",
     "output_type": "stream",
     "text": [
      "31072 masks found\n",
      "31072\n"
     ]
    },
    {
     "data": {
      "text/html": [
       "<div>\n",
       "<style scoped>\n",
       "    .dataframe tbody tr th:only-of-type {\n",
       "        vertical-align: middle;\n",
       "    }\n",
       "\n",
       "    .dataframe tbody tr th {\n",
       "        vertical-align: top;\n",
       "    }\n",
       "\n",
       "    .dataframe thead th {\n",
       "        text-align: right;\n",
       "    }\n",
       "</style>\n",
       "<table border=\"1\" class=\"dataframe\">\n",
       "  <thead>\n",
       "    <tr style=\"text-align: right;\">\n",
       "      <th></th>\n",
       "      <th>Id</th>\n",
       "      <th>Target</th>\n",
       "      <th>path</th>\n",
       "      <th>target_list</th>\n",
       "    </tr>\n",
       "  </thead>\n",
       "  <tbody>\n",
       "    <tr>\n",
       "      <th>0</th>\n",
       "      <td>00070df0-bbc3-11e8-b2bc-ac1f6b6435d0</td>\n",
       "      <td>16 0</td>\n",
       "      <td>./train/00070df0-bbc3-11e8-b2bc-ac1f6b6435d0.rgb</td>\n",
       "      <td>[16, 0]</td>\n",
       "    </tr>\n",
       "    <tr>\n",
       "      <th>1</th>\n",
       "      <td>000a6c98-bb9b-11e8-b2b9-ac1f6b6435d0</td>\n",
       "      <td>7 1 2 0</td>\n",
       "      <td>./train/000a6c98-bb9b-11e8-b2b9-ac1f6b6435d0.rgb</td>\n",
       "      <td>[7, 1, 2, 0]</td>\n",
       "    </tr>\n",
       "    <tr>\n",
       "      <th>2</th>\n",
       "      <td>000a9596-bbc4-11e8-b2bc-ac1f6b6435d0</td>\n",
       "      <td>5</td>\n",
       "      <td>./train/000a9596-bbc4-11e8-b2bc-ac1f6b6435d0.rgb</td>\n",
       "      <td>[5]</td>\n",
       "    </tr>\n",
       "    <tr>\n",
       "      <th>3</th>\n",
       "      <td>000c99ba-bba4-11e8-b2b9-ac1f6b6435d0</td>\n",
       "      <td>1</td>\n",
       "      <td>./train/000c99ba-bba4-11e8-b2b9-ac1f6b6435d0.rgb</td>\n",
       "      <td>[1]</td>\n",
       "    </tr>\n",
       "    <tr>\n",
       "      <th>4</th>\n",
       "      <td>001838f8-bbca-11e8-b2bc-ac1f6b6435d0</td>\n",
       "      <td>18</td>\n",
       "      <td>./train/001838f8-bbca-11e8-b2bc-ac1f6b6435d0.rgb</td>\n",
       "      <td>[18]</td>\n",
       "    </tr>\n",
       "  </tbody>\n",
       "</table>\n",
       "</div>"
      ],
      "text/plain": [
       "                                     Id   Target  \\\n",
       "0  00070df0-bbc3-11e8-b2bc-ac1f6b6435d0     16 0   \n",
       "1  000a6c98-bb9b-11e8-b2b9-ac1f6b6435d0  7 1 2 0   \n",
       "2  000a9596-bbc4-11e8-b2bc-ac1f6b6435d0        5   \n",
       "3  000c99ba-bba4-11e8-b2b9-ac1f6b6435d0        1   \n",
       "4  001838f8-bbca-11e8-b2bc-ac1f6b6435d0       18   \n",
       "\n",
       "                                               path   target_list  \n",
       "0  ./train/00070df0-bbc3-11e8-b2bc-ac1f6b6435d0.rgb       [16, 0]  \n",
       "1  ./train/000a6c98-bb9b-11e8-b2b9-ac1f6b6435d0.rgb  [7, 1, 2, 0]  \n",
       "2  ./train/000a9596-bbc4-11e8-b2bc-ac1f6b6435d0.rgb           [5]  \n",
       "3  ./train/000c99ba-bba4-11e8-b2b9-ac1f6b6435d0.rgb           [1]  \n",
       "4  ./train/001838f8-bbca-11e8-b2bc-ac1f6b6435d0.rgb          [18]  "
      ]
     },
     "execution_count": 2,
     "metadata": {},
     "output_type": "execute_result"
    }
   ],
   "source": [
    "image_df = pd.read_csv(os.path.join('./',\n",
    "                                 'train.csv'))\n",
    "print(image_df.shape[0], 'masks found')\n",
    "print(image_df['Id'].value_counts().shape[0])\n",
    "# just use green for now\n",
    "image_df['path'] = image_df['Id'].map(lambda x: os.path.join(train_image_dir, '{}.rgb'.format(x)))\n",
    "image_df['target_list'] = image_df['Target'].map(lambda x: [int(a) for a in x.split(' ')])\n",
    "image_df.head()"
   ]
  },
  {
   "cell_type": "code",
   "execution_count": 5,
   "metadata": {},
   "outputs": [
    {
     "name": "stdout",
     "output_type": "stream",
     "text": [
      "Nucleoplasm count: 12885\n",
      "Nuclear membrane count: 1254\n",
      "Nucleoli count: 3621\n",
      "Nucleoli fibrillar center count: 1561\n",
      "Nuclear speckles count: 1858\n",
      "Nuclear bodies count: 2513\n",
      "Endoplasmic reticulum count: 1008\n",
      "Golgi apparatus count: 2822\n",
      "Peroxisomes count: 53\n",
      "Endosomes count: 45\n",
      "Lysosomes count: 28\n",
      "Intermediate filaments count: 1093\n",
      "Actin filaments count: 688\n",
      "Focal adhesion sites count: 537\n",
      "Microtubules count: 1066\n",
      "Microtubule ends count: 21\n",
      "Cytokinetic bridge count: 530\n",
      "Mitotic spindle count: 210\n",
      "Microtubule organizing center count: 902\n",
      "Centrosome count: 1482\n",
      "Lipid droplets count: 172\n",
      "Plasma membrane count: 3777\n",
      "Cell junctions count: 802\n",
      "Mitochondria count: 2965\n",
      "Aggresome count: 322\n",
      "Cytosol count: 8228\n",
      "Cytoplasmic bodies count: 328\n",
      "Rods & rings count: 11\n"
     ]
    },
    {
     "data": {
      "image/png": "[encoded data removed]",
      "text/plain": [
       "<Figure size 720x360 with 1 Axes>"
      ]
     },
     "metadata": {},
     "output_type": "display_data"
    }
   ],
   "source": [
    "from itertools import chain\n",
    "from collections import Counter\n",
    "all_labels = list(chain.from_iterable(image_df['target_list'].values))\n",
    "c_val = Counter(all_labels)\n",
    "n_keys = c_val.keys()\n",
    "max_idx = max(n_keys)\n",
    "fig, ax1 = plt.subplots(1,1, figsize = (10, 5))\n",
    "ax1.bar(n_keys, [c_val[k] for k in n_keys])\n",
    "ax1.set_xticks(range(max_idx))\n",
    "ax1.set_xticklabels([name_label_dict[k] for k in range(max_idx)], rotation=90)\n",
    "for k,v in c_val.items():\n",
    "    print(name_label_dict[k], 'count:', v)"
   ]
  },
  {
   "cell_type": "code",
   "execution_count": 6,
   "metadata": {},
   "outputs": [
    {
     "data": {
      "text/html": [
       "<div>\n",
       "<style scoped>\n",
       "    .dataframe tbody tr th:only-of-type {\n",
       "        vertical-align: middle;\n",
       "    }\n",
       "\n",
       "    .dataframe tbody tr th {\n",
       "        vertical-align: top;\n",
       "    }\n",
       "\n",
       "    .dataframe thead th {\n",
       "        text-align: right;\n",
       "    }\n",
       "</style>\n",
       "<table border=\"1\" class=\"dataframe\">\n",
       "  <thead>\n",
       "    <tr style=\"text-align: right;\">\n",
       "      <th></th>\n",
       "      <th>Id</th>\n",
       "      <th>Target</th>\n",
       "      <th>path</th>\n",
       "      <th>target_list</th>\n",
       "      <th>target_vec</th>\n",
       "    </tr>\n",
       "  </thead>\n",
       "  <tbody>\n",
       "    <tr>\n",
       "      <th>7256</th>\n",
       "      <td>3c298b58-bbb6-11e8-b2ba-ac1f6b6435d0</td>\n",
       "      <td>19 16 0</td>\n",
       "      <td>./train/3c298b58-bbb6-11e8-b2ba-ac1f6b6435d0.rgb</td>\n",
       "      <td>[19, 16, 0]</td>\n",
       "      <td>[True, False, False, False, False, False, Fals...</td>\n",
       "    </tr>\n",
       "    <tr>\n",
       "      <th>857</th>\n",
       "      <td>076cb480-bba2-11e8-b2b9-ac1f6b6435d0</td>\n",
       "      <td>0 21</td>\n",
       "      <td>./train/076cb480-bba2-11e8-b2b9-ac1f6b6435d0.rgb</td>\n",
       "      <td>[0, 21]</td>\n",
       "      <td>[True, False, False, False, False, False, Fals...</td>\n",
       "    </tr>\n",
       "    <tr>\n",
       "      <th>20476</th>\n",
       "      <td>a8faf21a-bbb8-11e8-b2ba-ac1f6b6435d0</td>\n",
       "      <td>0</td>\n",
       "      <td>./train/a8faf21a-bbb8-11e8-b2ba-ac1f6b6435d0.rgb</td>\n",
       "      <td>[0]</td>\n",
       "      <td>[True, False, False, False, False, False, Fals...</td>\n",
       "    </tr>\n",
       "  </tbody>\n",
       "</table>\n",
       "</div>"
      ],
      "text/plain": [
       "                                         Id   Target  \\\n",
       "7256   3c298b58-bbb6-11e8-b2ba-ac1f6b6435d0  19 16 0   \n",
       "857    076cb480-bba2-11e8-b2b9-ac1f6b6435d0     0 21   \n",
       "20476  a8faf21a-bbb8-11e8-b2ba-ac1f6b6435d0        0   \n",
       "\n",
       "                                                   path  target_list  \\\n",
       "7256   ./train/3c298b58-bbb6-11e8-b2ba-ac1f6b6435d0.rgb  [19, 16, 0]   \n",
       "857    ./train/076cb480-bba2-11e8-b2b9-ac1f6b6435d0.rgb      [0, 21]   \n",
       "20476  ./train/a8faf21a-bbb8-11e8-b2ba-ac1f6b6435d0.rgb          [0]   \n",
       "\n",
       "                                              target_vec  \n",
       "7256   [True, False, False, False, False, False, Fals...  \n",
       "857    [True, False, False, False, False, False, Fals...  \n",
       "20476  [True, False, False, False, False, False, Fals...  "
      ]
     },
     "execution_count": 6,
     "metadata": {},
     "output_type": "execute_result"
    }
   ],
   "source": [
    "image_df['target_vec'] = image_df['target_list'].map(lambda ck: [i in ck for i in range(max_idx+1)])\n",
    "image_df.sample(3)"
   ]
  },
  {
   "cell_type": "markdown",
   "metadata": {},
   "source": [
    "# training set 과 validation set으로 나누기"
   ]
  },
  {
   "cell_type": "markdown",
   "metadata": {},
   "source": [
    "라벨별 비율 맞추기"
   ]
  },
  {
   "cell_type": "code",
   "execution_count": 7,
   "metadata": {},
   "outputs": [
    {
     "name": "stdout",
     "output_type": "stream",
     "text": [
      "21750 training masks\n",
      "9322 validation masks\n"
     ]
    }
   ],
   "source": [
    "from sklearn.model_selection import train_test_split\n",
    "raw_train_df, valid_df = train_test_split(image_df, \n",
    "                 test_size = 0.3, \n",
    "                  # hack to make stratification work                  \n",
    "                 stratify = image_df['Target'].map(lambda x: x[:3] if '27' not in x else '0'))\n",
    "print(raw_train_df.shape[0], 'training masks')\n",
    "print(valid_df.shape[0], 'validation masks')"
   ]
  },
  {
   "cell_type": "code",
   "execution_count": 9,
   "metadata": {},
   "outputs": [
    {
     "name": "stdout",
     "output_type": "stream",
     "text": [
      "11500\n"
     ]
    },
    {
     "data": {
      "text/html": [
       "<div>\n",
       "<style scoped>\n",
       "    .dataframe tbody tr th:only-of-type {\n",
       "        vertical-align: middle;\n",
       "    }\n",
       "\n",
       "    .dataframe tbody tr th {\n",
       "        vertical-align: top;\n",
       "    }\n",
       "\n",
       "    .dataframe thead th {\n",
       "        text-align: right;\n",
       "    }\n",
       "</style>\n",
       "<table border=\"1\" class=\"dataframe\">\n",
       "  <thead>\n",
       "    <tr style=\"text-align: right;\">\n",
       "      <th></th>\n",
       "      <th>Id</th>\n",
       "      <th>Target</th>\n",
       "      <th>path</th>\n",
       "      <th>target_list</th>\n",
       "      <th>target_vec</th>\n",
       "    </tr>\n",
       "  </thead>\n",
       "  <tbody>\n",
       "    <tr>\n",
       "      <th>4566</th>\n",
       "      <td>8bed2d1e-bbc7-11e8-b2bc-ac1f6b6435d0</td>\n",
       "      <td>12</td>\n",
       "      <td>./train/8bed2d1e-bbc7-11e8-b2bc-ac1f6b6435d0.rgb</td>\n",
       "      <td>[12]</td>\n",
       "      <td>[False, False, False, False, False, False, Fal...</td>\n",
       "    </tr>\n",
       "    <tr>\n",
       "      <th>4866</th>\n",
       "      <td>2249965e-bba4-11e8-b2b9-ac1f6b6435d0</td>\n",
       "      <td>12</td>\n",
       "      <td>./train/2249965e-bba4-11e8-b2b9-ac1f6b6435d0.rgb</td>\n",
       "      <td>[12]</td>\n",
       "      <td>[False, False, False, False, False, False, Fal...</td>\n",
       "    </tr>\n",
       "    <tr>\n",
       "      <th>995</th>\n",
       "      <td>b7a108aa-bbad-11e8-b2ba-ac1f6b6435d0</td>\n",
       "      <td>1 0</td>\n",
       "      <td>./train/b7a108aa-bbad-11e8-b2ba-ac1f6b6435d0.rgb</td>\n",
       "      <td>[1, 0]</td>\n",
       "      <td>[True, True, False, False, False, False, False...</td>\n",
       "    </tr>\n",
       "  </tbody>\n",
       "</table>\n",
       "</div>"
      ],
      "text/plain": [
       "                                        Id Target  \\\n",
       "4566  8bed2d1e-bbc7-11e8-b2bc-ac1f6b6435d0     12   \n",
       "4866  2249965e-bba4-11e8-b2b9-ac1f6b6435d0     12   \n",
       "995   b7a108aa-bbad-11e8-b2ba-ac1f6b6435d0    1 0   \n",
       "\n",
       "                                                  path target_list  \\\n",
       "4566  ./train/8bed2d1e-bbc7-11e8-b2bc-ac1f6b6435d0.rgb        [12]   \n",
       "4866  ./train/2249965e-bba4-11e8-b2b9-ac1f6b6435d0.rgb        [12]   \n",
       "995   ./train/b7a108aa-bbad-11e8-b2ba-ac1f6b6435d0.rgb      [1, 0]   \n",
       "\n",
       "                                             target_vec  \n",
       "4566  [False, False, False, False, False, False, Fal...  \n",
       "4866  [False, False, False, False, False, False, Fal...  \n",
       "995   [True, True, False, False, False, False, False...  "
      ]
     },
     "execution_count": 9,
     "metadata": {},
     "output_type": "execute_result"
    }
   ],
   "source": [
    "TRAIN_IMAGES_PER_CATEGORY = 500 \n",
    "\n",
    "# keep labels with more then 50 objects\n",
    "out_df_list = []\n",
    "for k,v in c_val.items():\n",
    "    if v>100:\n",
    "        keep_rows = raw_train_df['target_list'].map(lambda x: k in x)\n",
    "        out_df_list += [raw_train_df[keep_rows].sample(TRAIN_IMAGES_PER_CATEGORY, \n",
    "                                                       replace=True)]\n",
    "train_df = pd.concat(out_df_list, ignore_index=True)\n",
    "print(train_df.shape[0])\n",
    "train_df.sample(3)"
   ]
  },
  {
   "cell_type": "code",
   "execution_count": 10,
   "metadata": {},
   "outputs": [
    {
     "data": {
      "text/plain": [
       "Text(0.5,1,'Validation Distribution')"
      ]
     },
     "execution_count": 10,
     "metadata": {},
     "output_type": "execute_result"
    },
    {
     "data": {
      "image/png": "[encoded data removed]",
      "text/plain": [
       "<Figure size 720x360 with 2 Axes>"
      ]
     },
     "metadata": {},
     "output_type": "display_data"
    }
   ],
   "source": [
    "fig, (ax1, ax2) = plt.subplots(1, 2, figsize = (10, 5))\n",
    "train_sum_vec = np.sum(np.stack(train_df['target_vec'].values, 0), 0)\n",
    "valid_sum_vec = np.sum(np.stack(valid_df['target_vec'].values, 0), 0)\n",
    "ax1.bar(n_keys, [train_sum_vec[k] for k in n_keys])\n",
    "ax1.set_title('Training Distribution')\n",
    "ax2.bar(n_keys, [valid_sum_vec[k] for k in n_keys])\n",
    "ax2.set_title('Validation Distribution')"
   ]
  },
  {
   "cell_type": "code",
   "execution_count": 15,
   "metadata": {},
   "outputs": [
    {
     "data": {
      "text/html": [
       "<div>\n",
       "<style scoped>\n",
       "    .dataframe tbody tr th:only-of-type {\n",
       "        vertical-align: middle;\n",
       "    }\n",
       "\n",
       "    .dataframe tbody tr th {\n",
       "        vertical-align: top;\n",
       "    }\n",
       "\n",
       "    .dataframe thead th {\n",
       "        text-align: right;\n",
       "    }\n",
       "</style>\n",
       "<table border=\"1\" class=\"dataframe\">\n",
       "  <thead>\n",
       "    <tr style=\"text-align: right;\">\n",
       "      <th></th>\n",
       "      <th>Id</th>\n",
       "      <th>Target</th>\n",
       "      <th>path</th>\n",
       "      <th>target_list</th>\n",
       "      <th>target_vec</th>\n",
       "    </tr>\n",
       "  </thead>\n",
       "  <tbody>\n",
       "    <tr>\n",
       "      <th>28317</th>\n",
       "      <td>e93e66e4-bbb4-11e8-b2ba-ac1f6b6435d0</td>\n",
       "      <td>23 0</td>\n",
       "      <td>./train/e93e66e4-bbb4-11e8-b2ba-ac1f6b6435d0.rgb</td>\n",
       "      <td>[23, 0]</td>\n",
       "      <td>[True, False, False, False, False, False, Fals...</td>\n",
       "    </tr>\n",
       "    <tr>\n",
       "      <th>29255</th>\n",
       "      <td>f0e35860-bba4-11e8-b2ba-ac1f6b6435d0</td>\n",
       "      <td>18</td>\n",
       "      <td>./train/f0e35860-bba4-11e8-b2ba-ac1f6b6435d0.rgb</td>\n",
       "      <td>[18]</td>\n",
       "      <td>[False, False, False, False, False, False, Fal...</td>\n",
       "    </tr>\n",
       "    <tr>\n",
       "      <th>23255</th>\n",
       "      <td>bfbb3a40-bb9b-11e8-b2b9-ac1f6b6435d0</td>\n",
       "      <td>25 0</td>\n",
       "      <td>./train/bfbb3a40-bb9b-11e8-b2b9-ac1f6b6435d0.rgb</td>\n",
       "      <td>[25, 0]</td>\n",
       "      <td>[True, False, False, False, False, False, Fals...</td>\n",
       "    </tr>\n",
       "    <tr>\n",
       "      <th>3726</th>\n",
       "      <td>1f176592-bbb8-11e8-b2ba-ac1f6b6435d0</td>\n",
       "      <td>5</td>\n",
       "      <td>./train/1f176592-bbb8-11e8-b2ba-ac1f6b6435d0.rgb</td>\n",
       "      <td>[5]</td>\n",
       "      <td>[False, False, False, False, False, True, Fals...</td>\n",
       "    </tr>\n",
       "    <tr>\n",
       "      <th>11235</th>\n",
       "      <td>5d50ea4c-bbb6-11e8-b2ba-ac1f6b6435d0</td>\n",
       "      <td>12 0</td>\n",
       "      <td>./train/5d50ea4c-bbb6-11e8-b2ba-ac1f6b6435d0.rgb</td>\n",
       "      <td>[12, 0]</td>\n",
       "      <td>[True, False, False, False, False, False, Fals...</td>\n",
       "    </tr>\n",
       "  </tbody>\n",
       "</table>\n",
       "</div>"
      ],
      "text/plain": [
       "                                         Id Target  \\\n",
       "28317  e93e66e4-bbb4-11e8-b2ba-ac1f6b6435d0   23 0   \n",
       "29255  f0e35860-bba4-11e8-b2ba-ac1f6b6435d0     18   \n",
       "23255  bfbb3a40-bb9b-11e8-b2b9-ac1f6b6435d0   25 0   \n",
       "3726   1f176592-bbb8-11e8-b2ba-ac1f6b6435d0      5   \n",
       "11235  5d50ea4c-bbb6-11e8-b2ba-ac1f6b6435d0   12 0   \n",
       "\n",
       "                                                   path target_list  \\\n",
       "28317  ./train/e93e66e4-bbb4-11e8-b2ba-ac1f6b6435d0.rgb     [23, 0]   \n",
       "29255  ./train/f0e35860-bba4-11e8-b2ba-ac1f6b6435d0.rgb        [18]   \n",
       "23255  ./train/bfbb3a40-bb9b-11e8-b2b9-ac1f6b6435d0.rgb     [25, 0]   \n",
       "3726   ./train/1f176592-bbb8-11e8-b2ba-ac1f6b6435d0.rgb         [5]   \n",
       "11235  ./train/5d50ea4c-bbb6-11e8-b2ba-ac1f6b6435d0.rgb     [12, 0]   \n",
       "\n",
       "                                              target_vec  \n",
       "28317  [True, False, False, False, False, False, Fals...  \n",
       "29255  [False, False, False, False, False, False, Fal...  \n",
       "23255  [True, False, False, False, False, False, Fals...  \n",
       "3726   [False, False, False, False, False, True, Fals...  \n",
       "11235  [True, False, False, False, False, False, Fals...  "
      ]
     },
     "execution_count": 15,
     "metadata": {},
     "output_type": "execute_result"
    }
   ],
   "source": [
    "raw_train_df.head()"
   ]
  },
  {
   "cell_type": "code",
   "execution_count": 16,
   "metadata": {},
   "outputs": [
    {
     "data": {
      "text/html": [
       "<div>\n",
       "<style scoped>\n",
       "    .dataframe tbody tr th:only-of-type {\n",
       "        vertical-align: middle;\n",
       "    }\n",
       "\n",
       "    .dataframe tbody tr th {\n",
       "        vertical-align: top;\n",
       "    }\n",
       "\n",
       "    .dataframe thead th {\n",
       "        text-align: right;\n",
       "    }\n",
       "</style>\n",
       "<table border=\"1\" class=\"dataframe\">\n",
       "  <thead>\n",
       "    <tr style=\"text-align: right;\">\n",
       "      <th></th>\n",
       "      <th>Id</th>\n",
       "      <th>Target</th>\n",
       "      <th>path</th>\n",
       "      <th>target_list</th>\n",
       "      <th>target_vec</th>\n",
       "    </tr>\n",
       "  </thead>\n",
       "  <tbody>\n",
       "    <tr>\n",
       "      <th>18238</th>\n",
       "      <td>96eb4174-bbae-11e8-b2ba-ac1f6b6435d0</td>\n",
       "      <td>25 3</td>\n",
       "      <td>./train/96eb4174-bbae-11e8-b2ba-ac1f6b6435d0.rgb</td>\n",
       "      <td>[25, 3]</td>\n",
       "      <td>[False, False, False, True, False, False, Fals...</td>\n",
       "    </tr>\n",
       "    <tr>\n",
       "      <th>12778</th>\n",
       "      <td>6a1b9e80-bbab-11e8-b2ba-ac1f6b6435d0</td>\n",
       "      <td>25</td>\n",
       "      <td>./train/6a1b9e80-bbab-11e8-b2ba-ac1f6b6435d0.rgb</td>\n",
       "      <td>[25]</td>\n",
       "      <td>[False, False, False, False, False, False, Fal...</td>\n",
       "    </tr>\n",
       "    <tr>\n",
       "      <th>28835</th>\n",
       "      <td>ed865da2-bbb3-11e8-b2ba-ac1f6b6435d0</td>\n",
       "      <td>25 3</td>\n",
       "      <td>./train/ed865da2-bbb3-11e8-b2ba-ac1f6b6435d0.rgb</td>\n",
       "      <td>[25, 3]</td>\n",
       "      <td>[False, False, False, True, False, False, Fals...</td>\n",
       "    </tr>\n",
       "    <tr>\n",
       "      <th>2341</th>\n",
       "      <td>136d90b6-bbab-11e8-b2ba-ac1f6b6435d0</td>\n",
       "      <td>0</td>\n",
       "      <td>./train/136d90b6-bbab-11e8-b2ba-ac1f6b6435d0.rgb</td>\n",
       "      <td>[0]</td>\n",
       "      <td>[True, False, False, False, False, False, Fals...</td>\n",
       "    </tr>\n",
       "    <tr>\n",
       "      <th>1287</th>\n",
       "      <td>0ac10984-bbba-11e8-b2ba-ac1f6b6435d0</td>\n",
       "      <td>2 0</td>\n",
       "      <td>./train/0ac10984-bbba-11e8-b2ba-ac1f6b6435d0.rgb</td>\n",
       "      <td>[2, 0]</td>\n",
       "      <td>[True, False, True, False, False, False, False...</td>\n",
       "    </tr>\n",
       "  </tbody>\n",
       "</table>\n",
       "</div>"
      ],
      "text/plain": [
       "                                         Id Target  \\\n",
       "18238  96eb4174-bbae-11e8-b2ba-ac1f6b6435d0   25 3   \n",
       "12778  6a1b9e80-bbab-11e8-b2ba-ac1f6b6435d0     25   \n",
       "28835  ed865da2-bbb3-11e8-b2ba-ac1f6b6435d0   25 3   \n",
       "2341   136d90b6-bbab-11e8-b2ba-ac1f6b6435d0      0   \n",
       "1287   0ac10984-bbba-11e8-b2ba-ac1f6b6435d0    2 0   \n",
       "\n",
       "                                                   path target_list  \\\n",
       "18238  ./train/96eb4174-bbae-11e8-b2ba-ac1f6b6435d0.rgb     [25, 3]   \n",
       "12778  ./train/6a1b9e80-bbab-11e8-b2ba-ac1f6b6435d0.rgb        [25]   \n",
       "28835  ./train/ed865da2-bbb3-11e8-b2ba-ac1f6b6435d0.rgb     [25, 3]   \n",
       "2341   ./train/136d90b6-bbab-11e8-b2ba-ac1f6b6435d0.rgb         [0]   \n",
       "1287   ./train/0ac10984-bbba-11e8-b2ba-ac1f6b6435d0.rgb      [2, 0]   \n",
       "\n",
       "                                              target_vec  \n",
       "18238  [False, False, False, True, False, False, Fals...  \n",
       "12778  [False, False, False, False, False, False, Fal...  \n",
       "28835  [False, False, False, True, False, False, Fals...  \n",
       "2341   [True, False, False, False, False, False, Fals...  \n",
       "1287   [True, False, True, False, False, False, False...  "
      ]
     },
     "execution_count": 16,
     "metadata": {},
     "output_type": "execute_result"
    }
   ],
   "source": [
    "valid_df.head()"
   ]
  },
  {
   "cell_type": "code",
   "execution_count": 12,
   "metadata": {
    "collapsed": true
   },
   "outputs": [],
   "source": [
    "raw_train_df.to_csv(\"train_set.csv\", mode='w')"
   ]
  },
  {
   "cell_type": "code",
   "execution_count": 17,
   "metadata": {
    "collapsed": true
   },
   "outputs": [],
   "source": [
    "valid_df.to_csv(\"validation_set.csv\", mode='w')"
   ]
  },
  {
   "cell_type": "code",
   "execution_count": null,
   "metadata": {
    "collapsed": true
   },
   "outputs": [],
   "source": []
  }
 ],
 "metadata": {
  "kernelspec": {
   "display_name": "Python 3",
   "language": "python",
   "name": "python3"
  },
  "language_info": {
   "codemirror_mode": {
    "name": "ipython",
    "version": 3
   },
   "file_extension": ".py",
   "mimetype": "text/x-python",
   "name": "python",
   "nbconvert_exporter": "python",
   "pygments_lexer": "ipython3",
   "version": "3.5.2"
  }
 },
 "nbformat": 4,
 "nbformat_minor": 2
}
